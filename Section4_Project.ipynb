{
  "nbformat": 4,
  "nbformat_minor": 0,
  "metadata": {
    "colab": {
      "name": "Section4_Project.ipynb",
      "provenance": [],
      "collapsed_sections": [],
      "include_colab_link": true
    },
    "kernelspec": {
      "name": "python3",
      "display_name": "Python 3"
    },
    "language_info": {
      "name": "python"
    },
    "accelerator": "GPU"
  },
  "cells": [
    {
      "cell_type": "markdown",
      "metadata": {
        "id": "view-in-github",
        "colab_type": "text"
      },
      "source": [
        "<a href=\"https://colab.research.google.com/github/kiki4510/Spam-E-mail-Classification/blob/main/Section4_Project.ipynb\" target=\"_parent\"><img src=\"https://colab.research.google.com/assets/colab-badge.svg\" alt=\"Open In Colab\"/></a>"
      ]
    },
    {
      "cell_type": "code",
      "execution_count": null,
      "metadata": {
        "id": "M3PTCvKJ_uHs"
      },
      "outputs": [],
      "source": [
        "#필요한 라이브러리 import\n",
        "import numpy as np\n",
        "import pandas as pd\n",
        "from sklearn.model_selection import train_test_split\n",
        "from sklearn.metrics import accuracy_score\n",
        "import random\n",
        "random_state = 42\n",
        "\n",
        "random.seed(random_state)\n",
        "np.random.seed(random_state)\n"
      ]
    },
    {
      "cell_type": "code",
      "source": [
        "#구글드라이브 마운트\n",
        "from google.colab import drive\n",
        "drive.mount('/content/drive')"
      ],
      "metadata": {
        "colab": {
          "base_uri": "https://localhost:8080/"
        },
        "id": "uCsRhrf1Bz9m",
        "outputId": "aa4b01d4-6c2d-411b-9d16-dc82f10a0ca8"
      },
      "execution_count": null,
      "outputs": [
        {
          "output_type": "stream",
          "name": "stdout",
          "text": [
            "Mounted at /content/drive\n"
          ]
        }
      ]
    },
    {
      "cell_type": "code",
      "source": [
        "cd drive/MyDrive"
      ],
      "metadata": {
        "colab": {
          "base_uri": "https://localhost:8080/"
        },
        "id": "XTN1wKpDq4Hv",
        "outputId": "550e7bda-27d9-4b15-ca76-643b6d433577"
      },
      "execution_count": null,
      "outputs": [
        {
          "output_type": "stream",
          "name": "stdout",
          "text": [
            "/content/drive/MyDrive\n"
          ]
        }
      ]
    },
    {
      "cell_type": "code",
      "source": [
        "df = pd.read_csv('Spam Email raw text for NLP.csv')\n",
        "df.head()"
      ],
      "metadata": {
        "colab": {
          "base_uri": "https://localhost:8080/",
          "height": 206
        },
        "id": "q7rNsdm3f0b8",
        "outputId": "8d686ad6-2a03-4f06-a8c7-562efbca20d1"
      },
      "execution_count": null,
      "outputs": [
        {
          "output_type": "execute_result",
          "data": {
            "text/html": [
              "\n",
              "  <div id=\"df-51d2c5e3-019e-445c-87f5-526a32d6d2fd\">\n",
              "    <div class=\"colab-df-container\">\n",
              "      <div>\n",
              "<style scoped>\n",
              "    .dataframe tbody tr th:only-of-type {\n",
              "        vertical-align: middle;\n",
              "    }\n",
              "\n",
              "    .dataframe tbody tr th {\n",
              "        vertical-align: top;\n",
              "    }\n",
              "\n",
              "    .dataframe thead th {\n",
              "        text-align: right;\n",
              "    }\n",
              "</style>\n",
              "<table border=\"1\" class=\"dataframe\">\n",
              "  <thead>\n",
              "    <tr style=\"text-align: right;\">\n",
              "      <th></th>\n",
              "      <th>CATEGORY</th>\n",
              "      <th>MESSAGE</th>\n",
              "      <th>FILE_NAME</th>\n",
              "    </tr>\n",
              "  </thead>\n",
              "  <tbody>\n",
              "    <tr>\n",
              "      <th>0</th>\n",
              "      <td>1</td>\n",
              "      <td>Dear Homeowner,\\n\\n \\n\\nInterest Rates are at ...</td>\n",
              "      <td>00249.5f45607c1bffe89f60ba1ec9f878039a</td>\n",
              "    </tr>\n",
              "    <tr>\n",
              "      <th>1</th>\n",
              "      <td>1</td>\n",
              "      <td>ATTENTION: This is a MUST for ALL Computer Use...</td>\n",
              "      <td>00373.ebe8670ac56b04125c25100a36ab0510</td>\n",
              "    </tr>\n",
              "    <tr>\n",
              "      <th>2</th>\n",
              "      <td>1</td>\n",
              "      <td>This is a multi-part message in MIME format.\\n...</td>\n",
              "      <td>00214.1367039e50dc6b7adb0f2aa8aba83216</td>\n",
              "    </tr>\n",
              "    <tr>\n",
              "      <th>3</th>\n",
              "      <td>1</td>\n",
              "      <td>IMPORTANT INFORMATION:\\n\\n\\n\\nThe new domain n...</td>\n",
              "      <td>00210.050ffd105bd4e006771ee63cabc59978</td>\n",
              "    </tr>\n",
              "    <tr>\n",
              "      <th>4</th>\n",
              "      <td>1</td>\n",
              "      <td>This is the bottom line.  If you can GIVE AWAY...</td>\n",
              "      <td>00033.9babb58d9298daa2963d4f514193d7d6</td>\n",
              "    </tr>\n",
              "  </tbody>\n",
              "</table>\n",
              "</div>\n",
              "      <button class=\"colab-df-convert\" onclick=\"convertToInteractive('df-51d2c5e3-019e-445c-87f5-526a32d6d2fd')\"\n",
              "              title=\"Convert this dataframe to an interactive table.\"\n",
              "              style=\"display:none;\">\n",
              "        \n",
              "  <svg xmlns=\"http://www.w3.org/2000/svg\" height=\"24px\"viewBox=\"0 0 24 24\"\n",
              "       width=\"24px\">\n",
              "    <path d=\"M0 0h24v24H0V0z\" fill=\"none\"/>\n",
              "    <path d=\"M18.56 5.44l.94 2.06.94-2.06 2.06-.94-2.06-.94-.94-2.06-.94 2.06-2.06.94zm-11 1L8.5 8.5l.94-2.06 2.06-.94-2.06-.94L8.5 2.5l-.94 2.06-2.06.94zm10 10l.94 2.06.94-2.06 2.06-.94-2.06-.94-.94-2.06-.94 2.06-2.06.94z\"/><path d=\"M17.41 7.96l-1.37-1.37c-.4-.4-.92-.59-1.43-.59-.52 0-1.04.2-1.43.59L10.3 9.45l-7.72 7.72c-.78.78-.78 2.05 0 2.83L4 21.41c.39.39.9.59 1.41.59.51 0 1.02-.2 1.41-.59l7.78-7.78 2.81-2.81c.8-.78.8-2.07 0-2.86zM5.41 20L4 18.59l7.72-7.72 1.47 1.35L5.41 20z\"/>\n",
              "  </svg>\n",
              "      </button>\n",
              "      \n",
              "  <style>\n",
              "    .colab-df-container {\n",
              "      display:flex;\n",
              "      flex-wrap:wrap;\n",
              "      gap: 12px;\n",
              "    }\n",
              "\n",
              "    .colab-df-convert {\n",
              "      background-color: #E8F0FE;\n",
              "      border: none;\n",
              "      border-radius: 50%;\n",
              "      cursor: pointer;\n",
              "      display: none;\n",
              "      fill: #1967D2;\n",
              "      height: 32px;\n",
              "      padding: 0 0 0 0;\n",
              "      width: 32px;\n",
              "    }\n",
              "\n",
              "    .colab-df-convert:hover {\n",
              "      background-color: #E2EBFA;\n",
              "      box-shadow: 0px 1px 2px rgba(60, 64, 67, 0.3), 0px 1px 3px 1px rgba(60, 64, 67, 0.15);\n",
              "      fill: #174EA6;\n",
              "    }\n",
              "\n",
              "    [theme=dark] .colab-df-convert {\n",
              "      background-color: #3B4455;\n",
              "      fill: #D2E3FC;\n",
              "    }\n",
              "\n",
              "    [theme=dark] .colab-df-convert:hover {\n",
              "      background-color: #434B5C;\n",
              "      box-shadow: 0px 1px 3px 1px rgba(0, 0, 0, 0.15);\n",
              "      filter: drop-shadow(0px 1px 2px rgba(0, 0, 0, 0.3));\n",
              "      fill: #FFFFFF;\n",
              "    }\n",
              "  </style>\n",
              "\n",
              "      <script>\n",
              "        const buttonEl =\n",
              "          document.querySelector('#df-51d2c5e3-019e-445c-87f5-526a32d6d2fd button.colab-df-convert');\n",
              "        buttonEl.style.display =\n",
              "          google.colab.kernel.accessAllowed ? 'block' : 'none';\n",
              "\n",
              "        async function convertToInteractive(key) {\n",
              "          const element = document.querySelector('#df-51d2c5e3-019e-445c-87f5-526a32d6d2fd');\n",
              "          const dataTable =\n",
              "            await google.colab.kernel.invokeFunction('convertToInteractive',\n",
              "                                                     [key], {});\n",
              "          if (!dataTable) return;\n",
              "\n",
              "          const docLinkHtml = 'Like what you see? Visit the ' +\n",
              "            '<a target=\"_blank\" href=https://colab.research.google.com/notebooks/data_table.ipynb>data table notebook</a>'\n",
              "            + ' to learn more about interactive tables.';\n",
              "          element.innerHTML = '';\n",
              "          dataTable['output_type'] = 'display_data';\n",
              "          await google.colab.output.renderOutput(dataTable, element);\n",
              "          const docLink = document.createElement('div');\n",
              "          docLink.innerHTML = docLinkHtml;\n",
              "          element.appendChild(docLink);\n",
              "        }\n",
              "      </script>\n",
              "    </div>\n",
              "  </div>\n",
              "  "
            ],
            "text/plain": [
              "   CATEGORY  ...                               FILE_NAME\n",
              "0         1  ...  00249.5f45607c1bffe89f60ba1ec9f878039a\n",
              "1         1  ...  00373.ebe8670ac56b04125c25100a36ab0510\n",
              "2         1  ...  00214.1367039e50dc6b7adb0f2aa8aba83216\n",
              "3         1  ...  00210.050ffd105bd4e006771ee63cabc59978\n",
              "4         1  ...  00033.9babb58d9298daa2963d4f514193d7d6\n",
              "\n",
              "[5 rows x 3 columns]"
            ]
          },
          "metadata": {},
          "execution_count": 5
        }
      ]
    },
    {
      "cell_type": "code",
      "source": [
        "#텍스트 전처리 작업\n",
        "df['MESSAGE'] = df['MESSAGE'].apply(lambda x: x.lower())\n"
      ],
      "metadata": {
        "id": "s5KKwIy4iUiW"
      },
      "execution_count": null,
      "outputs": []
    },
    {
      "cell_type": "code",
      "source": [
        "import keras\n",
        "import warnings\n",
        "warnings.filterwarnings('ignore')\n",
        "\n",
        "np.random.seed(42)"
      ],
      "metadata": {
        "id": "5xkR67FWga5U"
      },
      "execution_count": null,
      "outputs": []
    },
    {
      "cell_type": "code",
      "source": [
        "#토큰화 함수\n",
        "from keras.preprocessing.text import Tokenizer\n",
        "from keras.preprocessing.sequence import pad_sequences\n",
        "from sklearn.model_selection import train_test_split\n",
        "def tokenizer_sequences(num_words, X):\n",
        "    \n",
        "    tokenizer = Tokenizer(num_words=num_words)\n",
        "    tokenizer.fit_on_texts(X)\n",
        "    sequences = tokenizer.texts_to_sequences(X)\n",
        "    \n",
        "    return tokenizer, sequences"
      ],
      "metadata": {
        "id": "q1lMo85QghGu"
      },
      "execution_count": null,
      "outputs": []
    },
    {
      "cell_type": "code",
      "source": [
        "max_words = 10000 \n",
        "max_len = 300\n",
        "tokenizer, sequences = tokenizer_sequences(max_words, df.MESSAGE.copy())"
      ],
      "metadata": {
        "id": "XK9EKGvwhP5U"
      },
      "execution_count": null,
      "outputs": []
    },
    {
      "cell_type": "code",
      "source": [
        "word_index = tokenizer.word_index\n",
        "print('Found %s unique tokens.' % len(word_index))\n",
        "\n",
        "X = pad_sequences(sequences, maxlen=max_len)\n",
        "y = df.CATEGORY.copy()"
      ],
      "metadata": {
        "colab": {
          "base_uri": "https://localhost:8080/"
        },
        "id": "7wl28JUlheH0",
        "outputId": "6cf8e168-241a-4dfb-b6ff-247417cb64e3"
      },
      "execution_count": null,
      "outputs": [
        {
          "output_type": "stream",
          "name": "stdout",
          "text": [
            "Found 104210 unique tokens.\n"
          ]
        }
      ]
    },
    {
      "cell_type": "code",
      "source": [
        "max_words = len(tokenizer.word_index) + 1\n",
        "embedding_dim = 100"
      ],
      "metadata": {
        "id": "ihQ2OWmRhpjm"
      },
      "execution_count": null,
      "outputs": []
    },
    {
      "cell_type": "code",
      "source": [
        "from keras.models import Sequential\n",
        "from keras.layers import Flatten, Dense, Embedding\n",
        "\n",
        "model = Sequential()\n",
        "model.add(Embedding(max_words, embedding_dim, input_length=max_len))\n",
        "model.add(Flatten())\n",
        "model.add(Dense(32, activation='relu'))\n",
        "model.add(Dense(1, activation='sigmoid'))\n",
        "model.summary()"
      ],
      "metadata": {
        "colab": {
          "base_uri": "https://localhost:8080/"
        },
        "id": "dmWyyL3Shta0",
        "outputId": "57264c2e-a575-4706-b06b-732eb8328aef"
      },
      "execution_count": null,
      "outputs": [
        {
          "output_type": "stream",
          "name": "stdout",
          "text": [
            "Model: \"sequential\"\n",
            "_________________________________________________________________\n",
            " Layer (type)                Output Shape              Param #   \n",
            "=================================================================\n",
            " embedding (Embedding)       (None, 300, 100)          10421100  \n",
            "                                                                 \n",
            " flatten (Flatten)           (None, 30000)             0         \n",
            "                                                                 \n",
            " dense (Dense)               (None, 32)                960032    \n",
            "                                                                 \n",
            " dense_1 (Dense)             (None, 1)                 33        \n",
            "                                                                 \n",
            "=================================================================\n",
            "Total params: 11,381,165\n",
            "Trainable params: 11,381,165\n",
            "Non-trainable params: 0\n",
            "_________________________________________________________________\n"
          ]
        }
      ]
    },
    {
      "cell_type": "code",
      "source": [
        "#훈련과 테스트 데이터 분리\n",
        "X_train, X_test, y_train, y_test = train_test_split(X, y, test_size=0.2, random_state=42, stratify=y)"
      ],
      "metadata": {
        "id": "4Oq0lW-uh0qv"
      },
      "execution_count": null,
      "outputs": []
    },
    {
      "cell_type": "code",
      "source": [
        "model.compile(optimizer='Adam', loss='binary_crossentropy', metrics=['acc'])\n",
        "record = model.fit(X_train, y_train, epochs=10, batch_size=32, validation_split=0.2)"
      ],
      "metadata": {
        "colab": {
          "base_uri": "https://localhost:8080/"
        },
        "id": "XjMLLIhbrZ1f",
        "outputId": "14ac56b2-c16d-4d07-a335-aa5f422f97f0"
      },
      "execution_count": null,
      "outputs": [
        {
          "output_type": "stream",
          "name": "stdout",
          "text": [
            "Epoch 1/10\n",
            "116/116 [==============================] - 4s 17ms/step - loss: 0.2115 - acc: 0.9137 - val_loss: 0.0458 - val_acc: 0.9903\n",
            "Epoch 2/10\n",
            "116/116 [==============================] - 2s 15ms/step - loss: 0.0127 - acc: 0.9965 - val_loss: 0.0175 - val_acc: 0.9968\n",
            "Epoch 3/10\n",
            "116/116 [==============================] - 2s 15ms/step - loss: 0.0040 - acc: 0.9987 - val_loss: 0.0230 - val_acc: 0.9914\n",
            "Epoch 4/10\n",
            "116/116 [==============================] - 2s 15ms/step - loss: 0.0038 - acc: 0.9987 - val_loss: 0.0408 - val_acc: 0.9828\n",
            "Epoch 5/10\n",
            "116/116 [==============================] - 2s 15ms/step - loss: 0.0020 - acc: 0.9995 - val_loss: 0.0257 - val_acc: 0.9881\n",
            "Epoch 6/10\n",
            "116/116 [==============================] - 2s 15ms/step - loss: 0.0017 - acc: 0.9992 - val_loss: 0.0220 - val_acc: 0.9935\n",
            "Epoch 7/10\n",
            "116/116 [==============================] - 2s 14ms/step - loss: 7.8968e-04 - acc: 0.9997 - val_loss: 0.0201 - val_acc: 0.9946\n",
            "Epoch 8/10\n",
            "116/116 [==============================] - 2s 15ms/step - loss: 3.2451e-04 - acc: 1.0000 - val_loss: 0.0220 - val_acc: 0.9914\n",
            "Epoch 9/10\n",
            "116/116 [==============================] - 2s 14ms/step - loss: 1.7560e-04 - acc: 1.0000 - val_loss: 0.0367 - val_acc: 0.9838\n",
            "Epoch 10/10\n",
            "116/116 [==============================] - 2s 15ms/step - loss: 2.1848e-04 - acc: 1.0000 - val_loss: 0.0261 - val_acc: 0.9892\n"
          ]
        }
      ]
    },
    {
      "cell_type": "code",
      "source": [
        "model.evaluate(X_test, y_test)"
      ],
      "metadata": {
        "colab": {
          "base_uri": "https://localhost:8080/"
        },
        "id": "ex1MzSldugTt",
        "outputId": "bf20d544-0b18-4767-8e1b-1de49d723c4d"
      },
      "execution_count": null,
      "outputs": [
        {
          "output_type": "stream",
          "name": "stdout",
          "text": [
            "37/37 [==============================] - 0s 5ms/step - loss: 0.0262 - acc: 0.9922\n"
          ]
        },
        {
          "output_type": "execute_result",
          "data": {
            "text/plain": [
              "[0.02619043178856373, 0.992241382598877]"
            ]
          },
          "metadata": {},
          "execution_count": 27
        }
      ]
    },
    {
      "cell_type": "code",
      "source": [
        "#chance level 확인\n",
        "df['CATEGORY'].value_counts()"
      ],
      "metadata": {
        "colab": {
          "base_uri": "https://localhost:8080/"
        },
        "id": "UVAEGIORvVI-",
        "outputId": "aaa967ca-4299-4ef9-e3bd-a600af9abb4e"
      },
      "execution_count": null,
      "outputs": [
        {
          "output_type": "execute_result",
          "data": {
            "text/plain": [
              "0    3900\n",
              "1    1896\n",
              "Name: CATEGORY, dtype: int64"
            ]
          },
          "metadata": {},
          "execution_count": 31
        }
      ]
    },
    {
      "cell_type": "code",
      "source": [
        "#교차 검증을 통한 일반화 가능성 확인\n",
        "from sklearn.model_selection import KFold, StratifiedKFold\n",
        "kf = KFold(n_splits = 5)\n",
        "skf = StratifiedKFold(n_splits = 5, random_state = 42, shuffle = True) \n",
        "x_train = pd.DataFrame(X_train)\n",
        "y_train = pd.DataFrame(y_train)\n",
        "\n",
        "for train_index, val_index in kf.split(np.zeros(x_train.shape[0]),y_train):\n",
        "    training_data = x_train.iloc[train_index, :]\n",
        "    training_data_label = y_train.iloc[train_index]\n",
        "    validation_data = x_train.iloc[val_index, :]\n",
        "    validation_data_label = y_train.iloc[val_index]"
      ],
      "metadata": {
        "id": "ji2BktlcyuZP"
      },
      "execution_count": null,
      "outputs": []
    },
    {
      "cell_type": "code",
      "source": [
        "cv_model=model.fit(training_data, training_data_label,\n",
        "\t\t\tepochs=10,\n",
        "            batch_size=64,\n",
        "\t\t\tvalidation_data=(validation_data, validation_data_label),\n",
        "          )"
      ],
      "metadata": {
        "colab": {
          "base_uri": "https://localhost:8080/"
        },
        "id": "yOFei_IHzzkK",
        "outputId": "83713dae-b647-4740-a130-9b485c21f3c6"
      },
      "execution_count": null,
      "outputs": [
        {
          "output_type": "stream",
          "name": "stdout",
          "text": [
            "Epoch 1/10\n",
            "58/58 [==============================] - 1s 21ms/step - loss: 1.0946e-04 - acc: 1.0000 - val_loss: 0.0241 - val_acc: 0.9914\n",
            "Epoch 2/10\n",
            "58/58 [==============================] - 1s 16ms/step - loss: 9.4721e-05 - acc: 1.0000 - val_loss: 0.0241 - val_acc: 0.9924\n",
            "Epoch 3/10\n",
            "58/58 [==============================] - 1s 15ms/step - loss: 1.0199e-04 - acc: 1.0000 - val_loss: 0.0231 - val_acc: 0.9924\n",
            "Epoch 4/10\n",
            "58/58 [==============================] - 1s 16ms/step - loss: 7.7021e-05 - acc: 1.0000 - val_loss: 0.0245 - val_acc: 0.9924\n",
            "Epoch 5/10\n",
            "58/58 [==============================] - 1s 16ms/step - loss: 6.9710e-05 - acc: 1.0000 - val_loss: 0.0234 - val_acc: 0.9924\n",
            "Epoch 6/10\n",
            "58/58 [==============================] - 1s 16ms/step - loss: 6.5833e-05 - acc: 1.0000 - val_loss: 0.0232 - val_acc: 0.9924\n",
            "Epoch 7/10\n",
            "58/58 [==============================] - 1s 16ms/step - loss: 5.9989e-05 - acc: 1.0000 - val_loss: 0.0234 - val_acc: 0.9924\n",
            "Epoch 8/10\n",
            "58/58 [==============================] - 1s 16ms/step - loss: 5.7304e-05 - acc: 1.0000 - val_loss: 0.0242 - val_acc: 0.9924\n",
            "Epoch 9/10\n",
            "58/58 [==============================] - 1s 16ms/step - loss: 5.4231e-05 - acc: 1.0000 - val_loss: 0.0232 - val_acc: 0.9924\n",
            "Epoch 10/10\n",
            "58/58 [==============================] - 1s 16ms/step - loss: 4.9050e-05 - acc: 1.0000 - val_loss: 0.0234 - val_acc: 0.9924\n"
          ]
        }
      ]
    },
    {
      "cell_type": "code",
      "source": [
        "results = model.evaluate(X_test, y_test, batch_size=32)"
      ],
      "metadata": {
        "colab": {
          "base_uri": "https://localhost:8080/"
        },
        "id": "poc6M8Y40KY0",
        "outputId": "3f69a18c-ef5d-423a-9b07-4e8857ba8aa1"
      },
      "execution_count": null,
      "outputs": [
        {
          "output_type": "stream",
          "name": "stdout",
          "text": [
            "37/37 [==============================] - 0s 3ms/step - loss: 0.0292 - acc: 0.9931\n"
          ]
        }
      ]
    }
  ]
}