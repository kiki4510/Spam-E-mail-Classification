{
  "nbformat": 4,
  "nbformat_minor": 0,
  "metadata": {
    "colab": {
      "name": "Section4_Project.ipynb",
      "provenance": [],
      "collapsed_sections": [],
      "include_colab_link": true
    },
    "kernelspec": {
      "name": "python3",
      "display_name": "Python 3"
    },
    "language_info": {
      "name": "python"
    },
    "accelerator": "GPU"
  },
  "cells": [
    {
      "cell_type": "markdown",
      "metadata": {
        "id": "view-in-github",
        "colab_type": "text"
      },
      "source": [
        "<a href=\"https://colab.research.google.com/github/kiki4510/Spam-E-mail-Classification/blob/main/Section4_Project.ipynb\" target=\"_parent\"><img src=\"https://colab.research.google.com/assets/colab-badge.svg\" alt=\"Open In Colab\"/></a>"
      ]
    },
    {
      "cell_type": "code",
      "execution_count": 1,
      "metadata": {
        "id": "M3PTCvKJ_uHs"
      },
      "outputs": [],
      "source": [
        "#필요한 라이브러리 import\n",
        "import numpy as np\n",
        "import pandas as pd\n",
        "from sklearn.model_selection import train_test_split\n",
        "from sklearn.metrics import accuracy_score\n",
        "import random\n",
        "random_state = 42\n",
        "\n",
        "random.seed(random_state)\n",
        "np.random.seed(random_state)\n"
      ]
    },
    {
      "cell_type": "code",
      "source": [
        "#구글드라이브 마운트\n",
        "from google.colab import drive\n",
        "drive.mount('/content/drive')"
      ],
      "metadata": {
        "colab": {
          "base_uri": "https://localhost:8080/"
        },
        "id": "uCsRhrf1Bz9m",
        "outputId": "ea7f55c7-5642-429f-d01a-ab5e5b6efa8b"
      },
      "execution_count": 2,
      "outputs": [
        {
          "output_type": "stream",
          "name": "stdout",
          "text": [
            "Mounted at /content/drive\n"
          ]
        }
      ]
    },
    {
      "cell_type": "code",
      "source": [
        "cd drive/MyDrive"
      ],
      "metadata": {
        "colab": {
          "base_uri": "https://localhost:8080/"
        },
        "id": "XTN1wKpDq4Hv",
        "outputId": "7c7706ea-1e6e-4276-cc4c-d095e058f68d"
      },
      "execution_count": 3,
      "outputs": [
        {
          "output_type": "stream",
          "name": "stdout",
          "text": [
            "/content/drive/MyDrive\n"
          ]
        }
      ]
    },
    {
      "cell_type": "code",
      "source": [
        "df = pd.read_csv('Spam Email raw text for NLP.csv')\n",
        "df.head()"
      ],
      "metadata": {
        "colab": {
          "base_uri": "https://localhost:8080/",
          "height": 206
        },
        "id": "q7rNsdm3f0b8",
        "outputId": "39af02e9-38e9-40dc-c2a3-431df10ead9e"
      },
      "execution_count": 4,
      "outputs": [
        {
          "output_type": "execute_result",
          "data": {
            "text/plain": [
              "   CATEGORY                                            MESSAGE  \\\n",
              "0         1  Dear Homeowner,\\n\\n \\n\\nInterest Rates are at ...   \n",
              "1         1  ATTENTION: This is a MUST for ALL Computer Use...   \n",
              "2         1  This is a multi-part message in MIME format.\\n...   \n",
              "3         1  IMPORTANT INFORMATION:\\n\\n\\n\\nThe new domain n...   \n",
              "4         1  This is the bottom line.  If you can GIVE AWAY...   \n",
              "\n",
              "                                FILE_NAME  \n",
              "0  00249.5f45607c1bffe89f60ba1ec9f878039a  \n",
              "1  00373.ebe8670ac56b04125c25100a36ab0510  \n",
              "2  00214.1367039e50dc6b7adb0f2aa8aba83216  \n",
              "3  00210.050ffd105bd4e006771ee63cabc59978  \n",
              "4  00033.9babb58d9298daa2963d4f514193d7d6  "
            ],
            "text/html": [
              "\n",
              "  <div id=\"df-c71a877f-483e-4bc1-a110-a0c4dcc7a329\">\n",
              "    <div class=\"colab-df-container\">\n",
              "      <div>\n",
              "<style scoped>\n",
              "    .dataframe tbody tr th:only-of-type {\n",
              "        vertical-align: middle;\n",
              "    }\n",
              "\n",
              "    .dataframe tbody tr th {\n",
              "        vertical-align: top;\n",
              "    }\n",
              "\n",
              "    .dataframe thead th {\n",
              "        text-align: right;\n",
              "    }\n",
              "</style>\n",
              "<table border=\"1\" class=\"dataframe\">\n",
              "  <thead>\n",
              "    <tr style=\"text-align: right;\">\n",
              "      <th></th>\n",
              "      <th>CATEGORY</th>\n",
              "      <th>MESSAGE</th>\n",
              "      <th>FILE_NAME</th>\n",
              "    </tr>\n",
              "  </thead>\n",
              "  <tbody>\n",
              "    <tr>\n",
              "      <th>0</th>\n",
              "      <td>1</td>\n",
              "      <td>Dear Homeowner,\\n\\n \\n\\nInterest Rates are at ...</td>\n",
              "      <td>00249.5f45607c1bffe89f60ba1ec9f878039a</td>\n",
              "    </tr>\n",
              "    <tr>\n",
              "      <th>1</th>\n",
              "      <td>1</td>\n",
              "      <td>ATTENTION: This is a MUST for ALL Computer Use...</td>\n",
              "      <td>00373.ebe8670ac56b04125c25100a36ab0510</td>\n",
              "    </tr>\n",
              "    <tr>\n",
              "      <th>2</th>\n",
              "      <td>1</td>\n",
              "      <td>This is a multi-part message in MIME format.\\n...</td>\n",
              "      <td>00214.1367039e50dc6b7adb0f2aa8aba83216</td>\n",
              "    </tr>\n",
              "    <tr>\n",
              "      <th>3</th>\n",
              "      <td>1</td>\n",
              "      <td>IMPORTANT INFORMATION:\\n\\n\\n\\nThe new domain n...</td>\n",
              "      <td>00210.050ffd105bd4e006771ee63cabc59978</td>\n",
              "    </tr>\n",
              "    <tr>\n",
              "      <th>4</th>\n",
              "      <td>1</td>\n",
              "      <td>This is the bottom line.  If you can GIVE AWAY...</td>\n",
              "      <td>00033.9babb58d9298daa2963d4f514193d7d6</td>\n",
              "    </tr>\n",
              "  </tbody>\n",
              "</table>\n",
              "</div>\n",
              "      <button class=\"colab-df-convert\" onclick=\"convertToInteractive('df-c71a877f-483e-4bc1-a110-a0c4dcc7a329')\"\n",
              "              title=\"Convert this dataframe to an interactive table.\"\n",
              "              style=\"display:none;\">\n",
              "        \n",
              "  <svg xmlns=\"http://www.w3.org/2000/svg\" height=\"24px\"viewBox=\"0 0 24 24\"\n",
              "       width=\"24px\">\n",
              "    <path d=\"M0 0h24v24H0V0z\" fill=\"none\"/>\n",
              "    <path d=\"M18.56 5.44l.94 2.06.94-2.06 2.06-.94-2.06-.94-.94-2.06-.94 2.06-2.06.94zm-11 1L8.5 8.5l.94-2.06 2.06-.94-2.06-.94L8.5 2.5l-.94 2.06-2.06.94zm10 10l.94 2.06.94-2.06 2.06-.94-2.06-.94-.94-2.06-.94 2.06-2.06.94z\"/><path d=\"M17.41 7.96l-1.37-1.37c-.4-.4-.92-.59-1.43-.59-.52 0-1.04.2-1.43.59L10.3 9.45l-7.72 7.72c-.78.78-.78 2.05 0 2.83L4 21.41c.39.39.9.59 1.41.59.51 0 1.02-.2 1.41-.59l7.78-7.78 2.81-2.81c.8-.78.8-2.07 0-2.86zM5.41 20L4 18.59l7.72-7.72 1.47 1.35L5.41 20z\"/>\n",
              "  </svg>\n",
              "      </button>\n",
              "      \n",
              "  <style>\n",
              "    .colab-df-container {\n",
              "      display:flex;\n",
              "      flex-wrap:wrap;\n",
              "      gap: 12px;\n",
              "    }\n",
              "\n",
              "    .colab-df-convert {\n",
              "      background-color: #E8F0FE;\n",
              "      border: none;\n",
              "      border-radius: 50%;\n",
              "      cursor: pointer;\n",
              "      display: none;\n",
              "      fill: #1967D2;\n",
              "      height: 32px;\n",
              "      padding: 0 0 0 0;\n",
              "      width: 32px;\n",
              "    }\n",
              "\n",
              "    .colab-df-convert:hover {\n",
              "      background-color: #E2EBFA;\n",
              "      box-shadow: 0px 1px 2px rgba(60, 64, 67, 0.3), 0px 1px 3px 1px rgba(60, 64, 67, 0.15);\n",
              "      fill: #174EA6;\n",
              "    }\n",
              "\n",
              "    [theme=dark] .colab-df-convert {\n",
              "      background-color: #3B4455;\n",
              "      fill: #D2E3FC;\n",
              "    }\n",
              "\n",
              "    [theme=dark] .colab-df-convert:hover {\n",
              "      background-color: #434B5C;\n",
              "      box-shadow: 0px 1px 3px 1px rgba(0, 0, 0, 0.15);\n",
              "      filter: drop-shadow(0px 1px 2px rgba(0, 0, 0, 0.3));\n",
              "      fill: #FFFFFF;\n",
              "    }\n",
              "  </style>\n",
              "\n",
              "      <script>\n",
              "        const buttonEl =\n",
              "          document.querySelector('#df-c71a877f-483e-4bc1-a110-a0c4dcc7a329 button.colab-df-convert');\n",
              "        buttonEl.style.display =\n",
              "          google.colab.kernel.accessAllowed ? 'block' : 'none';\n",
              "\n",
              "        async function convertToInteractive(key) {\n",
              "          const element = document.querySelector('#df-c71a877f-483e-4bc1-a110-a0c4dcc7a329');\n",
              "          const dataTable =\n",
              "            await google.colab.kernel.invokeFunction('convertToInteractive',\n",
              "                                                     [key], {});\n",
              "          if (!dataTable) return;\n",
              "\n",
              "          const docLinkHtml = 'Like what you see? Visit the ' +\n",
              "            '<a target=\"_blank\" href=https://colab.research.google.com/notebooks/data_table.ipynb>data table notebook</a>'\n",
              "            + ' to learn more about interactive tables.';\n",
              "          element.innerHTML = '';\n",
              "          dataTable['output_type'] = 'display_data';\n",
              "          await google.colab.output.renderOutput(dataTable, element);\n",
              "          const docLink = document.createElement('div');\n",
              "          docLink.innerHTML = docLinkHtml;\n",
              "          element.appendChild(docLink);\n",
              "        }\n",
              "      </script>\n",
              "    </div>\n",
              "  </div>\n",
              "  "
            ]
          },
          "metadata": {},
          "execution_count": 4
        }
      ]
    },
    {
      "cell_type": "code",
      "source": [
        "#텍스트 전처리 작업\n",
        "df['MESSAGE'] = df['MESSAGE'].apply(lambda x: x.lower())\n",
        "import re\n",
        "df['MESSAGE'] = df['MESSAGE'].str.replace(\"[^a-z ]\",\"\")"
      ],
      "metadata": {
        "id": "s5KKwIy4iUiW",
        "outputId": "abb59f01-3d90-4019-b7d0-574e24063d56",
        "colab": {
          "base_uri": "https://localhost:8080/"
        }
      },
      "execution_count": 5,
      "outputs": [
        {
          "output_type": "stream",
          "name": "stderr",
          "text": [
            "/usr/local/lib/python3.7/dist-packages/ipykernel_launcher.py:4: FutureWarning: The default value of regex will change from True to False in a future version.\n",
            "  after removing the cwd from sys.path.\n"
          ]
        }
      ]
    },
    {
      "cell_type": "code",
      "source": [
        "import keras\n",
        "import warnings\n",
        "warnings.filterwarnings('ignore')\n",
        "\n",
        "np.random.seed(42)"
      ],
      "metadata": {
        "id": "5xkR67FWga5U"
      },
      "execution_count": 6,
      "outputs": []
    },
    {
      "cell_type": "code",
      "source": [
        "#토큰화 함수\n",
        "from keras.preprocessing.text import Tokenizer\n",
        "from keras.preprocessing.sequence import pad_sequences\n",
        "from sklearn.model_selection import train_test_split\n",
        "def tokenizer_sequences(num_words, X):\n",
        "    \n",
        "    tokenizer = Tokenizer(num_words=num_words)\n",
        "    tokenizer.fit_on_texts(X)\n",
        "    sequences = tokenizer.texts_to_sequences(X)\n",
        "    \n",
        "    return tokenizer, sequences"
      ],
      "metadata": {
        "id": "q1lMo85QghGu"
      },
      "execution_count": 7,
      "outputs": []
    },
    {
      "cell_type": "code",
      "source": [
        "max_words = 10000 \n",
        "max_len = 300\n",
        "tokenizer, sequences = tokenizer_sequences(max_words, df.MESSAGE.copy())"
      ],
      "metadata": {
        "id": "XK9EKGvwhP5U"
      },
      "execution_count": 8,
      "outputs": []
    },
    {
      "cell_type": "code",
      "source": [
        "word_index = tokenizer.word_index\n",
        "print('Found %s unique tokens.' % len(word_index))\n",
        "\n",
        "X = pad_sequences(sequences, maxlen=max_len)\n",
        "y = df.CATEGORY.copy()"
      ],
      "metadata": {
        "colab": {
          "base_uri": "https://localhost:8080/"
        },
        "id": "7wl28JUlheH0",
        "outputId": "89e81ee6-3c6a-41e8-8fbd-67c633ea8636"
      },
      "execution_count": 9,
      "outputs": [
        {
          "output_type": "stream",
          "name": "stdout",
          "text": [
            "Found 122181 unique tokens.\n"
          ]
        }
      ]
    },
    {
      "cell_type": "code",
      "source": [
        "max_words = len(tokenizer.word_index) + 1\n",
        "embedding_dim = 100"
      ],
      "metadata": {
        "id": "ihQ2OWmRhpjm"
      },
      "execution_count": 10,
      "outputs": []
    },
    {
      "cell_type": "code",
      "source": [
        "from keras.models import Sequential\n",
        "from keras.layers import Flatten, Dense, Embedding\n",
        "\n",
        "model = Sequential()\n",
        "model.add(Embedding(max_words, embedding_dim, input_length=max_len))\n",
        "model.add(Flatten())\n",
        "model.add(Dense(32, activation='relu'))\n",
        "model.add(Dense(1, activation='sigmoid'))\n",
        "model.summary()"
      ],
      "metadata": {
        "colab": {
          "base_uri": "https://localhost:8080/"
        },
        "id": "dmWyyL3Shta0",
        "outputId": "a1c1ff09-fa6f-400f-d5d5-ab3565bd84c6"
      },
      "execution_count": 11,
      "outputs": [
        {
          "output_type": "stream",
          "name": "stdout",
          "text": [
            "Model: \"sequential\"\n",
            "_________________________________________________________________\n",
            " Layer (type)                Output Shape              Param #   \n",
            "=================================================================\n",
            " embedding (Embedding)       (None, 300, 100)          12218200  \n",
            "                                                                 \n",
            " flatten (Flatten)           (None, 30000)             0         \n",
            "                                                                 \n",
            " dense (Dense)               (None, 32)                960032    \n",
            "                                                                 \n",
            " dense_1 (Dense)             (None, 1)                 33        \n",
            "                                                                 \n",
            "=================================================================\n",
            "Total params: 13,178,265\n",
            "Trainable params: 13,178,265\n",
            "Non-trainable params: 0\n",
            "_________________________________________________________________\n"
          ]
        }
      ]
    },
    {
      "cell_type": "code",
      "source": [
        "#훈련과 테스트 데이터 분리\n",
        "X_train, X_test, y_train, y_test = train_test_split(X, y, test_size=0.2, random_state=42, stratify=y)"
      ],
      "metadata": {
        "id": "4Oq0lW-uh0qv"
      },
      "execution_count": 12,
      "outputs": []
    },
    {
      "cell_type": "code",
      "source": [
        "model.compile(optimizer='Adam', loss='binary_crossentropy', metrics=['acc'])\n",
        "record = model.fit(X_train, y_train, epochs=10, batch_size=32, validation_split=0.2)"
      ],
      "metadata": {
        "colab": {
          "base_uri": "https://localhost:8080/"
        },
        "id": "XjMLLIhbrZ1f",
        "outputId": "4ebf7c0c-3e1d-482f-8814-7ab464d7f9a1"
      },
      "execution_count": 13,
      "outputs": [
        {
          "output_type": "stream",
          "name": "stdout",
          "text": [
            "Epoch 1/10\n",
            "116/116 [==============================] - 5s 11ms/step - loss: 0.2460 - acc: 0.8991 - val_loss: 0.0502 - val_acc: 0.9892\n",
            "Epoch 2/10\n",
            "116/116 [==============================] - 1s 10ms/step - loss: 0.0180 - acc: 0.9951 - val_loss: 0.0239 - val_acc: 0.9935\n",
            "Epoch 3/10\n",
            "116/116 [==============================] - 1s 10ms/step - loss: 0.0052 - acc: 0.9989 - val_loss: 0.0216 - val_acc: 0.9925\n",
            "Epoch 4/10\n",
            "116/116 [==============================] - 1s 10ms/step - loss: 0.0024 - acc: 0.9995 - val_loss: 0.0242 - val_acc: 0.9871\n",
            "Epoch 5/10\n",
            "116/116 [==============================] - 1s 10ms/step - loss: 0.0018 - acc: 0.9997 - val_loss: 0.0223 - val_acc: 0.9903\n",
            "Epoch 6/10\n",
            "116/116 [==============================] - 1s 10ms/step - loss: 0.0016 - acc: 0.9997 - val_loss: 0.0681 - val_acc: 0.9698\n",
            "Epoch 7/10\n",
            "116/116 [==============================] - 1s 10ms/step - loss: 0.0036 - acc: 0.9984 - val_loss: 0.0240 - val_acc: 0.9903\n",
            "Epoch 8/10\n",
            "116/116 [==============================] - 2s 14ms/step - loss: 0.0014 - acc: 0.9995 - val_loss: 0.0233 - val_acc: 0.9914\n",
            "Epoch 9/10\n",
            "116/116 [==============================] - 1s 11ms/step - loss: 0.0015 - acc: 0.9992 - val_loss: 0.0331 - val_acc: 0.9871\n",
            "Epoch 10/10\n",
            "116/116 [==============================] - 1s 11ms/step - loss: 0.0016 - acc: 0.9995 - val_loss: 0.0296 - val_acc: 0.9892\n"
          ]
        }
      ]
    },
    {
      "cell_type": "code",
      "source": [
        "model.evaluate(X_test, y_test)"
      ],
      "metadata": {
        "colab": {
          "base_uri": "https://localhost:8080/"
        },
        "id": "ex1MzSldugTt",
        "outputId": "d029912b-1054-4700-de99-66acdefc0426"
      },
      "execution_count": 14,
      "outputs": [
        {
          "output_type": "stream",
          "name": "stdout",
          "text": [
            "37/37 [==============================] - 0s 3ms/step - loss: 0.0456 - acc: 0.9853\n"
          ]
        },
        {
          "output_type": "execute_result",
          "data": {
            "text/plain": [
              "[0.04563463106751442, 0.9853448271751404]"
            ]
          },
          "metadata": {},
          "execution_count": 14
        }
      ]
    },
    {
      "cell_type": "code",
      "source": [
        "#chance level 확인\n",
        "df['CATEGORY'].value_counts()"
      ],
      "metadata": {
        "colab": {
          "base_uri": "https://localhost:8080/"
        },
        "id": "UVAEGIORvVI-",
        "outputId": "5f828675-934d-421c-95cc-5077d5766f19"
      },
      "execution_count": 15,
      "outputs": [
        {
          "output_type": "execute_result",
          "data": {
            "text/plain": [
              "0    3900\n",
              "1    1896\n",
              "Name: CATEGORY, dtype: int64"
            ]
          },
          "metadata": {},
          "execution_count": 15
        }
      ]
    },
    {
      "cell_type": "code",
      "source": [
        "#교차 검증을 통한 일반화 가능성 확인\n",
        "from sklearn.model_selection import KFold, StratifiedKFold\n",
        "kf = KFold(n_splits = 5)\n",
        "skf = StratifiedKFold(n_splits = 5, random_state = 42, shuffle = True) \n",
        "x_train = pd.DataFrame(X_train)\n",
        "y_train = pd.DataFrame(y_train)\n",
        "\n",
        "for train_index, val_index in kf.split(np.zeros(x_train.shape[0]),y_train):\n",
        "    training_data = x_train.iloc[train_index, :]\n",
        "    training_data_label = y_train.iloc[train_index]\n",
        "    validation_data = x_train.iloc[val_index, :]\n",
        "    validation_data_label = y_train.iloc[val_index]"
      ],
      "metadata": {
        "id": "ji2BktlcyuZP"
      },
      "execution_count": null,
      "outputs": []
    },
    {
      "cell_type": "code",
      "source": [
        "cv_model=model.fit(training_data, training_data_label,\n",
        "\t\t\tepochs=10,\n",
        "            batch_size=64,\n",
        "\t\t\tvalidation_data=(validation_data, validation_data_label),\n",
        "          )"
      ],
      "metadata": {
        "colab": {
          "base_uri": "https://localhost:8080/"
        },
        "id": "yOFei_IHzzkK",
        "outputId": "83713dae-b647-4740-a130-9b485c21f3c6"
      },
      "execution_count": null,
      "outputs": [
        {
          "output_type": "stream",
          "name": "stdout",
          "text": [
            "Epoch 1/10\n",
            "58/58 [==============================] - 1s 21ms/step - loss: 1.0946e-04 - acc: 1.0000 - val_loss: 0.0241 - val_acc: 0.9914\n",
            "Epoch 2/10\n",
            "58/58 [==============================] - 1s 16ms/step - loss: 9.4721e-05 - acc: 1.0000 - val_loss: 0.0241 - val_acc: 0.9924\n",
            "Epoch 3/10\n",
            "58/58 [==============================] - 1s 15ms/step - loss: 1.0199e-04 - acc: 1.0000 - val_loss: 0.0231 - val_acc: 0.9924\n",
            "Epoch 4/10\n",
            "58/58 [==============================] - 1s 16ms/step - loss: 7.7021e-05 - acc: 1.0000 - val_loss: 0.0245 - val_acc: 0.9924\n",
            "Epoch 5/10\n",
            "58/58 [==============================] - 1s 16ms/step - loss: 6.9710e-05 - acc: 1.0000 - val_loss: 0.0234 - val_acc: 0.9924\n",
            "Epoch 6/10\n",
            "58/58 [==============================] - 1s 16ms/step - loss: 6.5833e-05 - acc: 1.0000 - val_loss: 0.0232 - val_acc: 0.9924\n",
            "Epoch 7/10\n",
            "58/58 [==============================] - 1s 16ms/step - loss: 5.9989e-05 - acc: 1.0000 - val_loss: 0.0234 - val_acc: 0.9924\n",
            "Epoch 8/10\n",
            "58/58 [==============================] - 1s 16ms/step - loss: 5.7304e-05 - acc: 1.0000 - val_loss: 0.0242 - val_acc: 0.9924\n",
            "Epoch 9/10\n",
            "58/58 [==============================] - 1s 16ms/step - loss: 5.4231e-05 - acc: 1.0000 - val_loss: 0.0232 - val_acc: 0.9924\n",
            "Epoch 10/10\n",
            "58/58 [==============================] - 1s 16ms/step - loss: 4.9050e-05 - acc: 1.0000 - val_loss: 0.0234 - val_acc: 0.9924\n"
          ]
        }
      ]
    },
    {
      "cell_type": "code",
      "source": [
        "results = model.evaluate(X_test, y_test, batch_size=32)"
      ],
      "metadata": {
        "colab": {
          "base_uri": "https://localhost:8080/"
        },
        "id": "poc6M8Y40KY0",
        "outputId": "3f69a18c-ef5d-423a-9b07-4e8857ba8aa1"
      },
      "execution_count": null,
      "outputs": [
        {
          "output_type": "stream",
          "name": "stdout",
          "text": [
            "37/37 [==============================] - 0s 3ms/step - loss: 0.0292 - acc: 0.9931\n"
          ]
        }
      ]
    }
  ]
}